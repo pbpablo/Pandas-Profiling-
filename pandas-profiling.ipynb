{
 "cells": [
  {
   "cell_type": "code",
   "execution_count": 1,
   "id": "e2664ab1",
   "metadata": {},
   "outputs": [],
   "source": [
    "import pandas as pd\n"
   ]
  },
  {
   "cell_type": "code",
   "execution_count": 3,
   "id": "b60e5889",
   "metadata": {},
   "outputs": [],
   "source": [
    "df=pd.read_csv(\"housing.csv\")"
   ]
  },
  {
   "cell_type": "code",
   "execution_count": 4,
   "id": "413bf7f9",
   "metadata": {},
   "outputs": [
    {
     "data": {
      "text/html": [
       "<div>\n",
       "<style scoped>\n",
       "    .dataframe tbody tr th:only-of-type {\n",
       "        vertical-align: middle;\n",
       "    }\n",
       "\n",
       "    .dataframe tbody tr th {\n",
       "        vertical-align: top;\n",
       "    }\n",
       "\n",
       "    .dataframe thead th {\n",
       "        text-align: right;\n",
       "    }\n",
       "</style>\n",
       "<table border=\"1\" class=\"dataframe\">\n",
       "  <thead>\n",
       "    <tr style=\"text-align: right;\">\n",
       "      <th></th>\n",
       "      <th>longitude</th>\n",
       "      <th>latitude</th>\n",
       "      <th>housing_median_age</th>\n",
       "      <th>total_rooms</th>\n",
       "      <th>total_bedrooms</th>\n",
       "      <th>population</th>\n",
       "      <th>households</th>\n",
       "      <th>median_income</th>\n",
       "      <th>median_house_value</th>\n",
       "      <th>ocean_proximity</th>\n",
       "    </tr>\n",
       "  </thead>\n",
       "  <tbody>\n",
       "    <tr>\n",
       "      <th>12541</th>\n",
       "      <td>-121.49</td>\n",
       "      <td>38.56</td>\n",
       "      <td>52.0</td>\n",
       "      <td>1777.0</td>\n",
       "      <td>368.0</td>\n",
       "      <td>624.0</td>\n",
       "      <td>350.0</td>\n",
       "      <td>3.6729</td>\n",
       "      <td>137800.0</td>\n",
       "      <td>INLAND</td>\n",
       "    </tr>\n",
       "    <tr>\n",
       "      <th>9923</th>\n",
       "      <td>-122.31</td>\n",
       "      <td>38.32</td>\n",
       "      <td>35.0</td>\n",
       "      <td>3997.0</td>\n",
       "      <td>762.0</td>\n",
       "      <td>2074.0</td>\n",
       "      <td>703.0</td>\n",
       "      <td>3.2850</td>\n",
       "      <td>138100.0</td>\n",
       "      <td>NEAR BAY</td>\n",
       "    </tr>\n",
       "    <tr>\n",
       "      <th>11660</th>\n",
       "      <td>-118.01</td>\n",
       "      <td>33.81</td>\n",
       "      <td>18.0</td>\n",
       "      <td>5238.0</td>\n",
       "      <td>1083.0</td>\n",
       "      <td>3032.0</td>\n",
       "      <td>1065.0</td>\n",
       "      <td>4.4583</td>\n",
       "      <td>190100.0</td>\n",
       "      <td>&lt;1H OCEAN</td>\n",
       "    </tr>\n",
       "    <tr>\n",
       "      <th>13452</th>\n",
       "      <td>-117.41</td>\n",
       "      <td>34.10</td>\n",
       "      <td>29.0</td>\n",
       "      <td>1362.0</td>\n",
       "      <td>251.0</td>\n",
       "      <td>776.0</td>\n",
       "      <td>253.0</td>\n",
       "      <td>3.1287</td>\n",
       "      <td>102000.0</td>\n",
       "      <td>INLAND</td>\n",
       "    </tr>\n",
       "    <tr>\n",
       "      <th>10481</th>\n",
       "      <td>-117.68</td>\n",
       "      <td>33.59</td>\n",
       "      <td>12.0</td>\n",
       "      <td>3473.0</td>\n",
       "      <td>466.0</td>\n",
       "      <td>1569.0</td>\n",
       "      <td>450.0</td>\n",
       "      <td>8.8636</td>\n",
       "      <td>314000.0</td>\n",
       "      <td>&lt;1H OCEAN</td>\n",
       "    </tr>\n",
       "  </tbody>\n",
       "</table>\n",
       "</div>"
      ],
      "text/plain": [
       "       longitude  latitude  housing_median_age  total_rooms  total_bedrooms  \\\n",
       "12541    -121.49     38.56                52.0       1777.0           368.0   \n",
       "9923     -122.31     38.32                35.0       3997.0           762.0   \n",
       "11660    -118.01     33.81                18.0       5238.0          1083.0   \n",
       "13452    -117.41     34.10                29.0       1362.0           251.0   \n",
       "10481    -117.68     33.59                12.0       3473.0           466.0   \n",
       "\n",
       "       population  households  median_income  median_house_value  \\\n",
       "12541       624.0       350.0         3.6729            137800.0   \n",
       "9923       2074.0       703.0         3.2850            138100.0   \n",
       "11660      3032.0      1065.0         4.4583            190100.0   \n",
       "13452       776.0       253.0         3.1287            102000.0   \n",
       "10481      1569.0       450.0         8.8636            314000.0   \n",
       "\n",
       "      ocean_proximity  \n",
       "12541          INLAND  \n",
       "9923         NEAR BAY  \n",
       "11660       <1H OCEAN  \n",
       "13452          INLAND  \n",
       "10481       <1H OCEAN  "
      ]
     },
     "execution_count": 4,
     "metadata": {},
     "output_type": "execute_result"
    }
   ],
   "source": [
    "df.sample(5)"
   ]
  },
  {
   "cell_type": "code",
   "execution_count": 5,
   "id": "a3549536",
   "metadata": {},
   "outputs": [
    {
     "data": {
      "application/vnd.jupyter.widget-view+json": {
       "model_id": "ccb85f8a581d487ea093f0b63fca0fc1",
       "version_major": 2,
       "version_minor": 0
      },
      "text/plain": [
       "Summarize dataset:   0%|          | 0/5 [00:00<?, ?it/s]"
      ]
     },
     "metadata": {},
     "output_type": "display_data"
    },
    {
     "data": {
      "application/vnd.jupyter.widget-view+json": {
       "model_id": "20fdd544e6e04b55b5cd805f09acc5ca",
       "version_major": 2,
       "version_minor": 0
      },
      "text/plain": [
       "Generate report structure:   0%|          | 0/1 [00:00<?, ?it/s]"
      ]
     },
     "metadata": {},
     "output_type": "display_data"
    },
    {
     "data": {
      "application/vnd.jupyter.widget-view+json": {
       "model_id": "cdccca029cb84e009097e139251ca622",
       "version_major": 2,
       "version_minor": 0
      },
      "text/plain": [
       "Render HTML:   0%|          | 0/1 [00:00<?, ?it/s]"
      ]
     },
     "metadata": {},
     "output_type": "display_data"
    },
    {
     "data": {
      "application/vnd.jupyter.widget-view+json": {
       "model_id": "2fcc00ef4eaa4addba617023481f4735",
       "version_major": 2,
       "version_minor": 0
      },
      "text/plain": [
       "Export report to file:   0%|          | 0/1 [00:00<?, ?it/s]"
      ]
     },
     "metadata": {},
     "output_type": "display_data"
    }
   ],
   "source": [
    "from pandas_profiling import ProfileReport\n",
    "prof = ProfileReport(df)\n",
    "prof.to_file(output_file='output.html')"
   ]
  },
  {
   "cell_type": "code",
   "execution_count": null,
   "id": "39a3ada3",
   "metadata": {},
   "outputs": [],
   "source": []
  }
 ],
 "metadata": {
  "kernelspec": {
   "display_name": "Python 3",
   "language": "python",
   "name": "python3"
  },
  "language_info": {
   "codemirror_mode": {
    "name": "ipython",
    "version": 3
   },
   "file_extension": ".py",
   "mimetype": "text/x-python",
   "name": "python",
   "nbconvert_exporter": "python",
   "pygments_lexer": "ipython3",
   "version": "3.8.8"
  }
 },
 "nbformat": 4,
 "nbformat_minor": 5
}
